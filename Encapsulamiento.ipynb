{
  "metadata": {
    "language_info": {
      "codemirror_mode": {
        "name": "python",
        "version": 3
      },
      "file_extension": ".py",
      "mimetype": "text/x-python",
      "name": "python",
      "nbconvert_exporter": "python",
      "pygments_lexer": "ipython3",
      "version": "3.8"
    },
    "kernelspec": {
      "name": "python",
      "display_name": "Python (Pyodide)",
      "language": "python"
    }
  },
  "nbformat_minor": 4,
  "nbformat": 4,
  "cells": [
    {
      "cell_type": "code",
      "source": "# Se tiene una clase que calcula el área de un circulo. La fórmula es (PI * (radio^2))/2\n# Se desea que se disponga de un método que eleve al cuadrado un número, y que sea usado internamente\n# por la clase, pero que no esté expuesto fuera de la clase.\n\nclass Circulo():\n    # Atributos\n    Radio=0.0\n    __Area=0.0\n   # Constructor\n    def __init__(self,radio):\n        self.Radio=radio\n   # Método privado, no expuesto\n    def __ElevarCuadrado(self,n):\n        return n*n\n   # Método no privado\n    def MostrarInfo(self):\n        self.__Area=(3.1416*self.__ElevarCuadrado(self.Radio))/2\n        return self.__Area\n\n# Ejemplo\n\ncalculo = Circulo(20)\n\n# La siguiente línea marcaría error, porque ElevarCuadrado es privada, y no está expuesta.\n# print(calculo.__ElevarCuadrado(10.0))\n\nprint(calculo.MostrarInfo())",
      "metadata": {
        "trusted": true
      },
      "execution_count": 1,
      "outputs": [
        {
          "name": "stdout",
          "text": "628.3199999999999\n",
          "output_type": "stream"
        }
      ]
    }
  ]
}