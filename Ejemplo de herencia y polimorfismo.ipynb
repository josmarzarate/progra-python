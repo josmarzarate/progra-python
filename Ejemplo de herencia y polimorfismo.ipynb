{
  "metadata": {
    "language_info": {
      "codemirror_mode": {
        "name": "python",
        "version": 3
      },
      "file_extension": ".py",
      "mimetype": "text/x-python",
      "name": "python",
      "nbconvert_exporter": "python",
      "pygments_lexer": "ipython3",
      "version": "3.8"
    },
    "kernelspec": {
      "name": "python",
      "display_name": "Python (Pyodide)",
      "language": "python"
    }
  },
  "nbformat_minor": 4,
  "nbformat": 4,
  "cells": [
    {
      "cell_type": "code",
      "source": "# Tienes una clase llamada Persona, que contiene el nombre, los apellidos y la edad de una persona.\n# Tienes otra clase llamada Fisico, que contiene el peso y la altura de una persona.\n# Cada una de las clases posee un método llamado MostrarInfo, que revela el contenido de los atributos.\n# Se desea una clase, llamada ExpedienteMedico, que contenga la funcionalidad de la clase Persona y Fisico,\n# y además un atributo que almacene el código de la cédula médica.\n# Esta clase tendrá tambien un método que se llame MostrarInfo(), que muestre toda la información, y que\n# remplace (sobrecarga / override) a los métodos MostrarInfo() de las clases base.\n\n# Clases que actuarán como clases base\n\nclass Persona():\n    # Atributos\n    Nombre=\"\"\n    Apellidos=\"\"\n    Edad=0\n    # Constructor\n    def __init__(self, nombre, apellidos, edad):\n        self.Nombre=nombre\n        self.Apellidos=apellidos\n        self.Edad=edad\n    # Métodos\n    def MostrarInfo(self):\n        print(\"-\"*50)\n        print(self.Nombre)\n        print(self.Apellidos)\n        print(self.Edad)\n\nclass Fisico():\n    # Atributos\n    Peso=0.0\n    Altura=0.0\n    # Constructor\n    def __init__(self, peso, altura):\n        self.Peso=peso\n        self.Altura=altura\n    # Métodos\n    def MostrarInfo(self):\n        print(\"-\"*50)\n        print(self.Peso)\n        print(self.Altura)\n        \n# Clase que actuará como derivada\n\nclass ExpedienteMedico(Persona,Fisico):\n    # Atributos\n    CedulaMedica=\"\"\n    # Método constructor\n    def __init__(self,cedulamedica,nombre,apellidos,edad,peso,altura):\n        # Se igualan los atributos de la clase\n        self.CedulaMedica=cedulamedica\n        # Se colocan referencias a los constructores de las clases base\n        Persona.__init__(self, nombre, apellidos, edad)\n        Fisico.__init__(self, peso, altura)\n    # Método\n    def MostrarInfo(self):\n        print(\"-\"*50)\n        print(self.CedulaMedica)\n        print(self.Nombre)\n        print(self.Apellidos)\n        print(self.Edad)\n        print(self.Peso)\n        print(self.Altura)\n    \n# Prueba de la clase\n\nejemplo=ExpedienteMedico(\"RARF-29929\",\"JUAN\",\"PEREZ\",28,74.30,1.68)\nejemplo.MostrarInfo()",
      "metadata": {
        "trusted": true
      },
      "execution_count": 1,
      "outputs": [
        {
          "name": "stdout",
          "text": "--------------------------------------------------\nRARF-29929\nJUAN\nPEREZ\n28\n74.3\n1.68\n",
          "output_type": "stream"
        }
      ]
    },
    {
      "cell_type": "code",
      "source": "",
      "metadata": {},
      "execution_count": null,
      "outputs": []
    },
    {
      "cell_type": "code",
      "source": "",
      "metadata": {},
      "execution_count": null,
      "outputs": []
    }
  ]
}