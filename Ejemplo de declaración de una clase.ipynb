{
  "metadata": {
    "language_info": {
      "codemirror_mode": {
        "name": "python",
        "version": 3
      },
      "file_extension": ".py",
      "mimetype": "text/x-python",
      "name": "python",
      "nbconvert_exporter": "python",
      "pygments_lexer": "ipython3",
      "version": "3.8"
    },
    "kernelspec": {
      "name": "python",
      "display_name": "Python (Pyodide)",
      "language": "python"
    }
  },
  "nbformat_minor": 4,
  "nbformat": 4,
  "cells": [
    {
      "cell_type": "code",
      "source": "# Imagina que tienes una clase llamada Producto, que almacena el nombre de un producto, y el precio del mismo.\n# El precio se almacena en un atributo de tipo float, que puede ser establecido en cualquier momento.\n# La clase debe tener un método constructor, al cual se le proporcionan los atributos.\n# La clase tendrá dos propiedades: Subtotal, que almacena el precio antes de impuestos; e Impuestos\n# que almacena el monto de impuestos, considerando que se tiene una tasa fija de impuestos del 16%\n# Ejemplo: Si el precio de un producto es de $80.50, el subtotal será 80.50/1.16=69.3965; el impuesto\n# sería 69.3965*0.16=11.1034. La suma del subtotal más el impuesto, debe dar los 80.50\n# Toma en cuenta que, a diferencia de los atributos, las propiedades son de solo lectura, o read-only.\nclass Producto():\n    # Atributos\n    Nombre=\"\"\n    precio=0.0\n    # Constructor\n    def __init__(self, nombre, precio):\n        self.Nombre=nombre.upper()\n        self.Precio=precio\n\n    @property\n    def Subtotal(self):\n        return self.Precio/1.16\n\n    @property\n    def Impuesto(self):\n        return (self.Precio/1.16)*0.16\n\n    # Método\n    def MostrarInfo(self):\n        print(\"-\"*50)\n        print(self.Nombre)\n        print(self.Subtotal)\n        print(self.Impuesto)\n        print(self.Precio)\n\npastelillo=Producto(\"Cachito Tortuga\",80.50)\n\n# Intentar la siguiente línea, provoca error\n# pastelillo.Subtotal=20.0\n\npastelillo.MostrarInfo()\n    \npastelillo.Precio=100\n\npastelillo.MostrarInfo()",
      "metadata": {
        "trusted": true
      },
      "execution_count": 1,
      "outputs": [
        {
          "name": "stdout",
          "text": "--------------------------------------------------\nCACHITO TORTUGA\n69.39655172413794\n11.10344827586207\n80.5\n--------------------------------------------------\nCACHITO TORTUGA\n86.20689655172414\n13.793103448275863\n100\n",
          "output_type": "stream"
        }
      ]
    }
  ]
}